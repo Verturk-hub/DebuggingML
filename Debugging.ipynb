{
 "cells": [
  {
   "cell_type": "code",
   "execution_count": 1,
   "source": [
    "import numpy as np\r\n",
    "import pandas as pd\r\n",
    "import matplotlib.pyplot as plt\r\n",
    "import tensorflow as tf\r\n",
    "from tensorflow import keras\r\n",
    "from os.path import join"
   ],
   "outputs": [],
   "metadata": {}
  },
  {
   "cell_type": "code",
   "execution_count": 3,
   "source": [
    "features = np.array(range(10))\r\n",
    "features = features[:, np.newaxis]\r\n",
    "labels = features + np.random.random(size=[10,1])-0.5\r\n"
   ],
   "outputs": [],
   "metadata": {}
  },
  {
   "cell_type": "code",
   "execution_count": 5,
   "source": [
    "plt.scatter(features,labels)\r\n",
    "plt.xlabel('features')\r\n",
    "plt.ylabel('labels')\r\n",
    "plt.title('ML model')"
   ],
   "outputs": [
    {
     "output_type": "execute_result",
     "data": {
      "text/plain": [
       "Text(0.5, 1.0, 'ML model')"
      ]
     },
     "metadata": {},
     "execution_count": 5
    },
    {
     "output_type": "display_data",
     "data": {
      "image/png": "[encoded data removed]",
      "text/plain": [
       "<Figure size 432x288 with 1 Axes>"
      ]
     },
     "metadata": {
      "needs_background": "light"
     }
    }
   ],
   "metadata": {}
  },
  {
   "cell_type": "code",
   "execution_count": 7,
   "source": [
    "model = keras. Sequential()\r\n",
    "model.add(keras.layers.Dense(units=1,activation='tanh',input_dim =1))\r\n",
    "model.compile(optimizer=tf.optimizers.Adam(0.001),\r\n",
    "                loss = 'mse',)\r\n",
    "\r\n",
    "model.summary()"
   ],
   "outputs": [
    {
     "output_type": "stream",
     "name": "stdout",
     "text": [
      "Model: \"sequential_1\"\n",
      "_________________________________________________________________\n",
      "Layer (type)                 Output Shape              Param #   \n",
      "=================================================================\n",
      "dense_1 (Dense)              (None, 1)                 2         \n",
      "=================================================================\n",
      "Total params: 2\n",
      "Trainable params: 2\n",
      "Non-trainable params: 0\n",
      "_________________________________________________________________\n"
     ]
    }
   ],
   "metadata": {}
  },
  {
   "cell_type": "code",
   "execution_count": 11,
   "source": [
    "history = model.fit(x=features, y=labels, epochs=10, batch_size=10, verbose=1)"
   ],
   "outputs": [
    {
     "output_type": "stream",
     "name": "stdout",
     "text": [
      "Epoch 1/10\n",
      "1/1 [==============================] - 0s 2ms/step - loss: 18.9896\n",
      "Epoch 2/10\n",
      "1/1 [==============================] - 0s 997us/step - loss: 18.9894\n",
      "Epoch 3/10\n",
      "1/1 [==============================] - 0s 2ms/step - loss: 18.9893\n",
      "Epoch 4/10\n",
      "1/1 [==============================] - 0s 2ms/step - loss: 18.9892\n",
      "Epoch 5/10\n",
      "1/1 [==============================] - 0s 972us/step - loss: 18.9890\n",
      "Epoch 6/10\n",
      "1/1 [==============================] - 0s 2ms/step - loss: 18.9889\n",
      "Epoch 7/10\n",
      "1/1 [==============================] - 0s 2ms/step - loss: 18.9887\n",
      "Epoch 8/10\n",
      "1/1 [==============================] - 0s 997us/step - loss: 18.9886\n",
      "Epoch 9/10\n",
      "1/1 [==============================] - 0s 2ms/step - loss: 18.9885\n",
      "Epoch 10/10\n",
      "1/1 [==============================] - 0s 2ms/step - loss: 18.9883\n"
     ]
    }
   ],
   "metadata": {}
  },
  {
   "cell_type": "code",
   "execution_count": 13,
   "source": [
    "plt.plot(history.history['loss'])"
   ],
   "outputs": [
    {
     "output_type": "execute_result",
     "data": {
      "text/plain": [
       "[<matplotlib.lines.Line2D at 0x12dc8b8d760>]"
      ]
     },
     "metadata": {},
     "execution_count": 13
    },
    {
     "output_type": "display_data",
     "data": {
      "image/png": "[encoded data removed]",
      "text/plain": [
       "<Figure size 432x288 with 1 Axes>"
      ]
     },
     "metadata": {
      "needs_background": "light"
     }
    }
   ],
   "metadata": {}
  },
  {
   "cell_type": "markdown",
   "source": [
    "Let's try to decrease loss by changing the activation to the linear and optimizer to gradient descent(SGD)."
   ],
   "metadata": {}
  },
  {
   "cell_type": "code",
   "execution_count": 22,
   "source": [
    "model = keras. Sequential()\r\n",
    "model.add(keras.layers.Dense(units=1,activation='linear',input_dim =1))\r\n",
    "model.compile(optimizer=tf.optimizers.SGD(0.0001),\r\n",
    "                loss = 'mse',)\r\n",
    "\r\n",
    "model.summary()"
   ],
   "outputs": [
    {
     "output_type": "stream",
     "name": "stdout",
     "text": [
      "Model: \"sequential_5\"\n",
      "_________________________________________________________________\n",
      "Layer (type)                 Output Shape              Param #   \n",
      "=================================================================\n",
      "dense_5 (Dense)              (None, 1)                 2         \n",
      "=================================================================\n",
      "Total params: 2\n",
      "Trainable params: 2\n",
      "Non-trainable params: 0\n",
      "_________________________________________________________________\n"
     ]
    }
   ],
   "metadata": {}
  },
  {
   "cell_type": "code",
   "execution_count": 23,
   "source": [
    "history = model.fit(x=features, y=labels, epochs=10, batch_size=10, verbose=1)"
   ],
   "outputs": [
    {
     "output_type": "stream",
     "name": "stdout",
     "text": [
      "Epoch 1/10\n",
      "1/1 [==============================] - 0s 2ms/step - loss: 2.1520\n",
      "Epoch 2/10\n",
      "1/1 [==============================] - 0s 2ms/step - loss: 2.1272\n",
      "Epoch 3/10\n",
      "1/1 [==============================] - 0s 995us/step - loss: 2.1027\n",
      "Epoch 4/10\n",
      "1/1 [==============================] - 0s 7ms/step - loss: 2.0785\n",
      "Epoch 5/10\n",
      "1/1 [==============================] - 0s 2ms/step - loss: 2.0546\n",
      "Epoch 6/10\n",
      "1/1 [==============================] - 0s 3ms/step - loss: 2.0309\n",
      "Epoch 7/10\n",
      "1/1 [==============================] - 0s 998us/step - loss: 2.0075\n",
      "Epoch 8/10\n",
      "1/1 [==============================] - 0s 2ms/step - loss: 1.9844\n",
      "Epoch 9/10\n",
      "1/1 [==============================] - 0s 3ms/step - loss: 1.9616\n",
      "Epoch 10/10\n",
      "1/1 [==============================] - 0s 981us/step - loss: 1.9390\n"
     ]
    }
   ],
   "metadata": {}
  },
  {
   "cell_type": "code",
   "execution_count": 24,
   "source": [
    "plt.plot(history.history['loss'])"
   ],
   "outputs": [
    {
     "output_type": "execute_result",
     "data": {
      "text/plain": [
       "[<matplotlib.lines.Line2D at 0x12dc8e77100>]"
      ]
     },
     "metadata": {},
     "execution_count": 24
    },
    {
     "output_type": "display_data",
     "data": {
      "image/png": "[encoded data removed]",
      "text/plain": [
       "<Figure size 432x288 with 1 Axes>"
      ]
     },
     "metadata": {
      "needs_background": "light"
     }
    }
   ],
   "metadata": {}
  }
 ],
 "metadata": {
  "orig_nbformat": 4,
  "language_info": {
   "name": "python",
   "version": "3.8.3",
   "mimetype": "text/x-python",
   "codemirror_mode": {
    "name": "ipython",
    "version": 3
   },
   "pygments_lexer": "ipython3",
   "nbconvert_exporter": "python",
   "file_extension": ".py"
  },
  "kernelspec": {
   "name": "python3",
   "display_name": "Python 3.8.3 64-bit ('base': conda)"
  },
  "interpreter": {
   "hash": "46182d5f787c7496ac3d2ccd0c5d8bf41bffd3ac5e5e93146af501a7f382c533"
  }
 },
 "nbformat": 4,
 "nbformat_minor": 2
}